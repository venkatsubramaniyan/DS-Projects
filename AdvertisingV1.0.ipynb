{
 "cells": [
  {
   "cell_type": "markdown",
   "metadata": {},
   "source": [
    "# Advertising: Predict Who Will Likely Click On The Ad\n",
    "## _Data Science Project - [Kaggle](https://www.kaggle.com/fayomi/advertising)_\n"
   ]
  },
  {
   "cell_type": "markdown",
   "metadata": {},
   "source": [
    "This project is divided in 5 sections:\n",
    "\n",
    "1. Introduction\n",
    "\n",
    "2. Exploring The Data\n",
    "\n",
    "    2.1 The Data\n",
    "    \n",
    "3. Exploratory Data Analysis (EDA)\n",
    "\n",
    "    3.1 Describing Features\n",
    "    \n",
    "    3.2 Descriptive Figures\n",
    "    \n",
    "        3.2.1 Distribution Plots\n",
    "        \n",
    "        3.2.2 Boxplots\n",
    "        \n",
    "        3.2.3 Cross-correlation Plot\n",
    "        \n",
    "        3.2.4 Distribution Plots With Respect To Our Target Feature\n",
    "        \n",
    "        3.2.5 Pair Plots With Respect To Our Target Feature\n",
    "    \n",
    "    3.3 Feature Engineering\n",
    "\n",
    "        3.3.1 Skewed Features: Log Transform\n",
    "        \n",
    "        3.3.2 Removing Some Features\n",
    "        \n",
    "        3.3.3 Normalization Of Numerical Features\n",
    "        \n",
    "        3.3.4 Processing Categorical Feature: One Hot-Encoding\n",
    "\n",
    "4. Model Selection\n",
    "\n",
    "    4.1 Data Preparation: Training and Testing Sets\n",
    "\n",
    "    4.2 Model Selection: Logistic Regression\n",
    "    \n",
    "        4.2.1 Logistic Regression\n",
    "        \n",
    "        4.2.2 Confusion Matrix, Precision, Recall, F1-Score\n",
    "        \n",
    "5. Model deployment\n",
    "\n",
    "\n",
    "6. Actionable Recommendations"
   ]
  },
  {
   "cell_type": "markdown",
   "metadata": {},
   "source": [
    "# 1. Introduction\n",
    "\n",
    "The task is to predict who will most likely click on the ad. Let's consider that we are working for a marketing company. Firstly, we have to understand what constitutes a profit and a loss. \n",
    "\n",
    "Let's assume that we have a marketing campaign for which we spend **1000USD per potential customer**. For each **customer that we target** with our ad campaign **and** that **clicks on the ad**, we get an **overall profit of 100USD**. However, if we target a **customer that ends up not clicking** on the ad, we incur a **net loss of 1050USD**. Therefore we can conclude that for each **customer that was not targeted** by the campaign **and** who **clicks on the ad**, we get an **overall profit of 1100USD**."
   ]
  },
  {
   "cell_type": "code",
   "execution_count": 104,
   "metadata": {},
   "outputs": [],
   "source": [
    "#Imporing Libraries\n",
    "import numpy as np\n",
    "import pandas as pd\n",
    "import matplotlib.pyplot as plt                                        \n",
    "import seaborn as sns  \n",
    "from sklearn.model_selection import train_test_split\n",
    "from sklearn.linear_model import LogisticRegression\n",
    "from sklearn.metrics import accuracy_score, precision_score, recall_score, confusion_matrix, make_scorer, fbeta_score\n",
    "from sklearn.preprocessing import MinMaxScaler\n",
    "from sklearn.model_selection import GridSearchCV\n"
   ]
  },
  {
   "cell_type": "markdown",
   "metadata": {},
   "source": [
    "# 2. Exploring the Data\n",
    "\n",
    "## 2.1 The data:\n",
    "\n",
    "There is one data set provided with this problem.\n",
    "\n",
    "_**We will perform the exploratory data analysis on the whole set, before separating it into a training and test sets later before performing machine learning.**_"
   ]
  },
  {
   "cell_type": "code",
   "execution_count": 105,
   "metadata": {},
   "outputs": [
    {
     "data": {
      "text/html": [
       "<div>\n",
       "<style scoped>\n",
       "    .dataframe tbody tr th:only-of-type {\n",
       "        vertical-align: middle;\n",
       "    }\n",
       "\n",
       "    .dataframe tbody tr th {\n",
       "        vertical-align: top;\n",
       "    }\n",
       "\n",
       "    .dataframe thead th {\n",
       "        text-align: right;\n",
       "    }\n",
       "</style>\n",
       "<table border=\"1\" class=\"dataframe\">\n",
       "  <thead>\n",
       "    <tr style=\"text-align: right;\">\n",
       "      <th></th>\n",
       "      <th>Daily Time Spent on Site</th>\n",
       "      <th>Age</th>\n",
       "      <th>Area Income</th>\n",
       "      <th>Daily Internet Usage</th>\n",
       "      <th>Ad Topic Line</th>\n",
       "      <th>City</th>\n",
       "      <th>Male</th>\n",
       "      <th>Country</th>\n",
       "      <th>Timestamp</th>\n",
       "      <th>Clicked on Ad</th>\n",
       "    </tr>\n",
       "  </thead>\n",
       "  <tbody>\n",
       "    <tr>\n",
       "      <th>0</th>\n",
       "      <td>68.95</td>\n",
       "      <td>35</td>\n",
       "      <td>61833.90</td>\n",
       "      <td>256.09</td>\n",
       "      <td>Cloned 5thgeneration orchestration</td>\n",
       "      <td>Wrightburgh</td>\n",
       "      <td>0</td>\n",
       "      <td>Tunisia</td>\n",
       "      <td>2016-03-27 0:53</td>\n",
       "      <td>0.0</td>\n",
       "    </tr>\n",
       "    <tr>\n",
       "      <th>1</th>\n",
       "      <td>80.23</td>\n",
       "      <td>31</td>\n",
       "      <td>68441.85</td>\n",
       "      <td>193.77</td>\n",
       "      <td>Monitored national standardization</td>\n",
       "      <td>West Jodi</td>\n",
       "      <td>1</td>\n",
       "      <td>Nauru</td>\n",
       "      <td>2016-04-04 1:39</td>\n",
       "      <td>0.0</td>\n",
       "    </tr>\n",
       "    <tr>\n",
       "      <th>2</th>\n",
       "      <td>69.47</td>\n",
       "      <td>26</td>\n",
       "      <td>59785.94</td>\n",
       "      <td>236.50</td>\n",
       "      <td>Organic bottom-line service-desk</td>\n",
       "      <td>Davidton</td>\n",
       "      <td>0</td>\n",
       "      <td>San Marino</td>\n",
       "      <td>2016-03-13 20:35</td>\n",
       "      <td>0.0</td>\n",
       "    </tr>\n",
       "    <tr>\n",
       "      <th>3</th>\n",
       "      <td>74.15</td>\n",
       "      <td>29</td>\n",
       "      <td>54806.18</td>\n",
       "      <td>245.89</td>\n",
       "      <td>Triple-buffered reciprocal time-frame</td>\n",
       "      <td>West Terrifurt</td>\n",
       "      <td>1</td>\n",
       "      <td>Italy</td>\n",
       "      <td>2016-01-10 2:31</td>\n",
       "      <td>0.0</td>\n",
       "    </tr>\n",
       "    <tr>\n",
       "      <th>4</th>\n",
       "      <td>68.37</td>\n",
       "      <td>35</td>\n",
       "      <td>73889.99</td>\n",
       "      <td>225.58</td>\n",
       "      <td>Robust logistical utilization</td>\n",
       "      <td>South Manuel</td>\n",
       "      <td>0</td>\n",
       "      <td>Iceland</td>\n",
       "      <td>2016-06-03 3:36</td>\n",
       "      <td>0.0</td>\n",
       "    </tr>\n",
       "  </tbody>\n",
       "</table>\n",
       "</div>"
      ],
      "text/plain": [
       "   Daily Time Spent on Site  Age  Area Income  Daily Internet Usage  \\\n",
       "0                     68.95   35     61833.90                256.09   \n",
       "1                     80.23   31     68441.85                193.77   \n",
       "2                     69.47   26     59785.94                236.50   \n",
       "3                     74.15   29     54806.18                245.89   \n",
       "4                     68.37   35     73889.99                225.58   \n",
       "\n",
       "                           Ad Topic Line            City  Male     Country  \\\n",
       "0     Cloned 5thgeneration orchestration     Wrightburgh     0     Tunisia   \n",
       "1     Monitored national standardization       West Jodi     1       Nauru   \n",
       "2       Organic bottom-line service-desk        Davidton     0  San Marino   \n",
       "3  Triple-buffered reciprocal time-frame  West Terrifurt     1       Italy   \n",
       "4          Robust logistical utilization    South Manuel     0     Iceland   \n",
       "\n",
       "          Timestamp  Clicked on Ad  \n",
       "0   2016-03-27 0:53            0.0  \n",
       "1   2016-04-04 1:39            0.0  \n",
       "2  2016-03-13 20:35            0.0  \n",
       "3   2016-01-10 2:31            0.0  \n",
       "4   2016-06-03 3:36            0.0  "
      ]
     },
     "execution_count": 105,
     "metadata": {},
     "output_type": "execute_result"
    }
   ],
   "source": [
    "# Importing dataset\n",
    "Advertising_Data= pd.read_csv(\"Advertising.csv\")        \n",
    "Advertising_Data.head()"
   ]
  },
  {
   "cell_type": "markdown",
   "metadata": {},
   "source": [
    "Let's look at the main characteristics of our dataset, such as the number of observations, the type of variables, the summary statistics for each variables, the number of missing data, etc."
   ]
  },
  {
   "cell_type": "code",
   "execution_count": 106,
   "metadata": {},
   "outputs": [
    {
     "name": "stdout",
     "output_type": "stream",
     "text": [
      "<class 'pandas.core.frame.DataFrame'>\n",
      "RangeIndex: 1018 entries, 0 to 1017\n",
      "Data columns (total 10 columns):\n",
      "Daily Time Spent on Site    1018 non-null float64\n",
      "Age                         1018 non-null int64\n",
      "Area Income                 1018 non-null float64\n",
      "Daily Internet Usage        1018 non-null float64\n",
      "Ad Topic Line               1018 non-null object\n",
      "City                        1018 non-null object\n",
      "Male                        1018 non-null int64\n",
      "Country                     1018 non-null object\n",
      "Timestamp                   1018 non-null object\n",
      "Clicked on Ad               1014 non-null float64\n",
      "dtypes: float64(4), int64(2), object(4)\n",
      "memory usage: 79.6+ KB\n"
     ]
    }
   ],
   "source": [
    "Advertising_Data.info()     # Understanding Data and its datatype"
   ]
  },
  {
   "cell_type": "code",
   "execution_count": 107,
   "metadata": {},
   "outputs": [
    {
     "data": {
      "text/plain": [
       "Daily Time Spent on Site    0\n",
       "Age                         0\n",
       "Area Income                 0\n",
       "Daily Internet Usage        0\n",
       "Ad Topic Line               0\n",
       "City                        0\n",
       "Male                        0\n",
       "Country                     0\n",
       "Timestamp                   0\n",
       "Clicked on Ad               4\n",
       "dtype: int64"
      ]
     },
     "execution_count": 107,
     "metadata": {},
     "output_type": "execute_result"
    }
   ],
   "source": [
    "Advertising_Data.isnull().sum()                       "
   ]
  },
  {
   "cell_type": "markdown",
   "metadata": {},
   "source": [
    "Clicked on Ad has 4 missing values"
   ]
  },
  {
   "cell_type": "code",
   "execution_count": 108,
   "metadata": {},
   "outputs": [],
   "source": [
    "Advertising_Data= Advertising_Data.dropna()  # Removing the records which has missing values"
   ]
  },
  {
   "cell_type": "code",
   "execution_count": 109,
   "metadata": {},
   "outputs": [
    {
     "data": {
      "text/plain": [
       "7"
      ]
     },
     "execution_count": 109,
     "metadata": {},
     "output_type": "execute_result"
    }
   ],
   "source": [
    "Advertising_Data.duplicated().sum()     # Checking for duplicates"
   ]
  },
  {
   "cell_type": "code",
   "execution_count": 110,
   "metadata": {},
   "outputs": [],
   "source": [
    "Advertising_Data=Advertising_Data.drop_duplicates()  # Dropping duplicates"
   ]
  },
  {
   "cell_type": "markdown",
   "metadata": {},
   "source": [
    "# 3. Exploratory Data Analysis (EDA)\n",
    "## 3.1 Describing The Features"
   ]
  },
  {
   "cell_type": "code",
   "execution_count": 111,
   "metadata": {},
   "outputs": [
    {
     "data": {
      "text/plain": [
       "1.0    0.502483\n",
       "0.0    0.497517\n",
       "Name: Clicked on Ad, dtype: float64"
      ]
     },
     "execution_count": 111,
     "metadata": {},
     "output_type": "execute_result"
    }
   ],
   "source": [
    "Advertising_Data['Clicked on Ad'].value_counts()/len(Advertising_Data)  # Both Clicked on Ad and not clicked on Ad are equally presnt "
   ]
  },
  {
   "cell_type": "markdown",
   "metadata": {},
   "source": [
    " Both Clicked on Ad and not clicked on Ad are equally present and its a well balanced dataset"
   ]
  },
  {
   "cell_type": "code",
   "execution_count": 112,
   "metadata": {},
   "outputs": [
    {
     "data": {
      "text/html": [
       "<div>\n",
       "<style scoped>\n",
       "    .dataframe tbody tr th:only-of-type {\n",
       "        vertical-align: middle;\n",
       "    }\n",
       "\n",
       "    .dataframe tbody tr th {\n",
       "        vertical-align: top;\n",
       "    }\n",
       "\n",
       "    .dataframe thead th {\n",
       "        text-align: right;\n",
       "    }\n",
       "</style>\n",
       "<table border=\"1\" class=\"dataframe\">\n",
       "  <thead>\n",
       "    <tr style=\"text-align: right;\">\n",
       "      <th></th>\n",
       "      <th>Daily Time Spent on Site</th>\n",
       "      <th>Age</th>\n",
       "      <th>Area Income</th>\n",
       "      <th>Daily Internet Usage</th>\n",
       "      <th>Male</th>\n",
       "      <th>Clicked on Ad</th>\n",
       "    </tr>\n",
       "  </thead>\n",
       "  <tbody>\n",
       "    <tr>\n",
       "      <th>count</th>\n",
       "      <td>1007.000000</td>\n",
       "      <td>1007.000000</td>\n",
       "      <td>1007.000000</td>\n",
       "      <td>1007.000000</td>\n",
       "      <td>1007.000000</td>\n",
       "      <td>1007.000000</td>\n",
       "    </tr>\n",
       "    <tr>\n",
       "      <th>mean</th>\n",
       "      <td>64.952403</td>\n",
       "      <td>36.958292</td>\n",
       "      <td>54899.398868</td>\n",
       "      <td>179.386514</td>\n",
       "      <td>0.482622</td>\n",
       "      <td>0.502483</td>\n",
       "    </tr>\n",
       "    <tr>\n",
       "      <th>std</th>\n",
       "      <td>15.850441</td>\n",
       "      <td>31.729539</td>\n",
       "      <td>13458.555374</td>\n",
       "      <td>44.548765</td>\n",
       "      <td>0.499946</td>\n",
       "      <td>0.500242</td>\n",
       "    </tr>\n",
       "    <tr>\n",
       "      <th>min</th>\n",
       "      <td>32.600000</td>\n",
       "      <td>-25.000000</td>\n",
       "      <td>13996.500000</td>\n",
       "      <td>23.640000</td>\n",
       "      <td>0.000000</td>\n",
       "      <td>0.000000</td>\n",
       "    </tr>\n",
       "    <tr>\n",
       "      <th>25%</th>\n",
       "      <td>51.270000</td>\n",
       "      <td>29.000000</td>\n",
       "      <td>46899.780000</td>\n",
       "      <td>138.490000</td>\n",
       "      <td>0.000000</td>\n",
       "      <td>0.000000</td>\n",
       "    </tr>\n",
       "    <tr>\n",
       "      <th>50%</th>\n",
       "      <td>68.100000</td>\n",
       "      <td>35.000000</td>\n",
       "      <td>56984.090000</td>\n",
       "      <td>182.200000</td>\n",
       "      <td>0.000000</td>\n",
       "      <td>1.000000</td>\n",
       "    </tr>\n",
       "    <tr>\n",
       "      <th>75%</th>\n",
       "      <td>78.535000</td>\n",
       "      <td>42.000000</td>\n",
       "      <td>65350.775000</td>\n",
       "      <td>218.550000</td>\n",
       "      <td>1.000000</td>\n",
       "      <td>1.000000</td>\n",
       "    </tr>\n",
       "    <tr>\n",
       "      <th>max</th>\n",
       "      <td>91.430000</td>\n",
       "      <td>999.000000</td>\n",
       "      <td>79484.800000</td>\n",
       "      <td>269.960000</td>\n",
       "      <td>1.000000</td>\n",
       "      <td>1.000000</td>\n",
       "    </tr>\n",
       "  </tbody>\n",
       "</table>\n",
       "</div>"
      ],
      "text/plain": [
       "       Daily Time Spent on Site          Age   Area Income  \\\n",
       "count               1007.000000  1007.000000   1007.000000   \n",
       "mean                  64.952403    36.958292  54899.398868   \n",
       "std                   15.850441    31.729539  13458.555374   \n",
       "min                   32.600000   -25.000000  13996.500000   \n",
       "25%                   51.270000    29.000000  46899.780000   \n",
       "50%                   68.100000    35.000000  56984.090000   \n",
       "75%                   78.535000    42.000000  65350.775000   \n",
       "max                   91.430000   999.000000  79484.800000   \n",
       "\n",
       "       Daily Internet Usage         Male  Clicked on Ad  \n",
       "count           1007.000000  1007.000000    1007.000000  \n",
       "mean             179.386514     0.482622       0.502483  \n",
       "std               44.548765     0.499946       0.500242  \n",
       "min               23.640000     0.000000       0.000000  \n",
       "25%              138.490000     0.000000       0.000000  \n",
       "50%              182.200000     0.000000       1.000000  \n",
       "75%              218.550000     1.000000       1.000000  \n",
       "max              269.960000     1.000000       1.000000  "
      ]
     },
     "execution_count": 112,
     "metadata": {},
     "output_type": "execute_result"
    }
   ],
   "source": [
    "Advertising_Data.describe()"
   ]
  },
  {
   "cell_type": "markdown",
   "metadata": {},
   "source": [
    "By looking at the data , its not so skewed as the median and mean are almost similar.\n",
    "\n",
    "Minimum value of age is negative and maximum value of age is abnormal"
   ]
  },
  {
   "cell_type": "code",
   "execution_count": 113,
   "metadata": {},
   "outputs": [],
   "source": [
    "Advertising_Data['Age']=Advertising_Data['Age'].abs()    # Age cannot be negative and taking absolute of it\n"
   ]
  },
  {
   "cell_type": "code",
   "execution_count": 114,
   "metadata": {},
   "outputs": [
    {
     "data": {
      "text/html": [
       "<div>\n",
       "<style scoped>\n",
       "    .dataframe tbody tr th:only-of-type {\n",
       "        vertical-align: middle;\n",
       "    }\n",
       "\n",
       "    .dataframe tbody tr th {\n",
       "        vertical-align: top;\n",
       "    }\n",
       "\n",
       "    .dataframe thead th {\n",
       "        text-align: right;\n",
       "    }\n",
       "</style>\n",
       "<table border=\"1\" class=\"dataframe\">\n",
       "  <thead>\n",
       "    <tr style=\"text-align: right;\">\n",
       "      <th></th>\n",
       "      <th>Daily Time Spent on Site</th>\n",
       "      <th>Age</th>\n",
       "      <th>Area Income</th>\n",
       "      <th>Daily Internet Usage</th>\n",
       "      <th>Male</th>\n",
       "      <th>Clicked on Ad</th>\n",
       "    </tr>\n",
       "  </thead>\n",
       "  <tbody>\n",
       "    <tr>\n",
       "      <th>count</th>\n",
       "      <td>1007.000000</td>\n",
       "      <td>1007.000000</td>\n",
       "      <td>1007.000000</td>\n",
       "      <td>1007.000000</td>\n",
       "      <td>1007.000000</td>\n",
       "      <td>1007.000000</td>\n",
       "    </tr>\n",
       "    <tr>\n",
       "      <th>mean</th>\n",
       "      <td>64.952403</td>\n",
       "      <td>37.007944</td>\n",
       "      <td>54899.398868</td>\n",
       "      <td>179.386514</td>\n",
       "      <td>0.482622</td>\n",
       "      <td>0.502483</td>\n",
       "    </tr>\n",
       "    <tr>\n",
       "      <th>std</th>\n",
       "      <td>15.850441</td>\n",
       "      <td>31.671555</td>\n",
       "      <td>13458.555374</td>\n",
       "      <td>44.548765</td>\n",
       "      <td>0.499946</td>\n",
       "      <td>0.500242</td>\n",
       "    </tr>\n",
       "    <tr>\n",
       "      <th>min</th>\n",
       "      <td>32.600000</td>\n",
       "      <td>8.000000</td>\n",
       "      <td>13996.500000</td>\n",
       "      <td>23.640000</td>\n",
       "      <td>0.000000</td>\n",
       "      <td>0.000000</td>\n",
       "    </tr>\n",
       "    <tr>\n",
       "      <th>25%</th>\n",
       "      <td>51.270000</td>\n",
       "      <td>29.000000</td>\n",
       "      <td>46899.780000</td>\n",
       "      <td>138.490000</td>\n",
       "      <td>0.000000</td>\n",
       "      <td>0.000000</td>\n",
       "    </tr>\n",
       "    <tr>\n",
       "      <th>50%</th>\n",
       "      <td>68.100000</td>\n",
       "      <td>35.000000</td>\n",
       "      <td>56984.090000</td>\n",
       "      <td>182.200000</td>\n",
       "      <td>0.000000</td>\n",
       "      <td>1.000000</td>\n",
       "    </tr>\n",
       "    <tr>\n",
       "      <th>75%</th>\n",
       "      <td>78.535000</td>\n",
       "      <td>42.000000</td>\n",
       "      <td>65350.775000</td>\n",
       "      <td>218.550000</td>\n",
       "      <td>1.000000</td>\n",
       "      <td>1.000000</td>\n",
       "    </tr>\n",
       "    <tr>\n",
       "      <th>max</th>\n",
       "      <td>91.430000</td>\n",
       "      <td>999.000000</td>\n",
       "      <td>79484.800000</td>\n",
       "      <td>269.960000</td>\n",
       "      <td>1.000000</td>\n",
       "      <td>1.000000</td>\n",
       "    </tr>\n",
       "  </tbody>\n",
       "</table>\n",
       "</div>"
      ],
      "text/plain": [
       "       Daily Time Spent on Site          Age   Area Income  \\\n",
       "count               1007.000000  1007.000000   1007.000000   \n",
       "mean                  64.952403    37.007944  54899.398868   \n",
       "std                   15.850441    31.671555  13458.555374   \n",
       "min                   32.600000     8.000000  13996.500000   \n",
       "25%                   51.270000    29.000000  46899.780000   \n",
       "50%                   68.100000    35.000000  56984.090000   \n",
       "75%                   78.535000    42.000000  65350.775000   \n",
       "max                   91.430000   999.000000  79484.800000   \n",
       "\n",
       "       Daily Internet Usage         Male  Clicked on Ad  \n",
       "count           1007.000000  1007.000000    1007.000000  \n",
       "mean             179.386514     0.482622       0.502483  \n",
       "std               44.548765     0.499946       0.500242  \n",
       "min               23.640000     0.000000       0.000000  \n",
       "25%              138.490000     0.000000       0.000000  \n",
       "50%              182.200000     0.000000       1.000000  \n",
       "75%              218.550000     1.000000       1.000000  \n",
       "max              269.960000     1.000000       1.000000  "
      ]
     },
     "execution_count": 114,
     "metadata": {},
     "output_type": "execute_result"
    }
   ],
   "source": [
    "Advertising_Data.describe()"
   ]
  },
  {
   "cell_type": "code",
   "execution_count": 115,
   "metadata": {},
   "outputs": [
    {
     "data": {
      "text/html": [
       "<div>\n",
       "<style scoped>\n",
       "    .dataframe tbody tr th:only-of-type {\n",
       "        vertical-align: middle;\n",
       "    }\n",
       "\n",
       "    .dataframe tbody tr th {\n",
       "        vertical-align: top;\n",
       "    }\n",
       "\n",
       "    .dataframe thead th {\n",
       "        text-align: right;\n",
       "    }\n",
       "</style>\n",
       "<table border=\"1\" class=\"dataframe\">\n",
       "  <thead>\n",
       "    <tr style=\"text-align: right;\">\n",
       "      <th></th>\n",
       "      <th>Daily Time Spent on Site</th>\n",
       "      <th>Age</th>\n",
       "      <th>Area Income</th>\n",
       "      <th>Daily Internet Usage</th>\n",
       "      <th>Ad Topic Line</th>\n",
       "      <th>City</th>\n",
       "      <th>Male</th>\n",
       "      <th>Country</th>\n",
       "      <th>Timestamp</th>\n",
       "      <th>Clicked on Ad</th>\n",
       "    </tr>\n",
       "  </thead>\n",
       "  <tbody>\n",
       "    <tr>\n",
       "      <th>823</th>\n",
       "      <td>43.16</td>\n",
       "      <td>8</td>\n",
       "      <td>25371.52</td>\n",
       "      <td>156.11</td>\n",
       "      <td>Implemented didactic support</td>\n",
       "      <td>Williamsport</td>\n",
       "      <td>1</td>\n",
       "      <td>Marshall Islands</td>\n",
       "      <td>2016-07-06 3:40</td>\n",
       "      <td>1.0</td>\n",
       "    </tr>\n",
       "  </tbody>\n",
       "</table>\n",
       "</div>"
      ],
      "text/plain": [
       "     Daily Time Spent on Site  Age  Area Income  Daily Internet Usage  \\\n",
       "823                     43.16    8     25371.52                156.11   \n",
       "\n",
       "                    Ad Topic Line          City  Male           Country  \\\n",
       "823  Implemented didactic support  Williamsport     1  Marshall Islands   \n",
       "\n",
       "           Timestamp  Clicked on Ad  \n",
       "823  2016-07-06 3:40            1.0  "
      ]
     },
     "execution_count": 115,
     "metadata": {},
     "output_type": "execute_result"
    }
   ],
   "source": [
    "Advertising_Data[Advertising_Data['Age']<18]"
   ]
  },
  {
   "cell_type": "code",
   "execution_count": 116,
   "metadata": {},
   "outputs": [
    {
     "data": {
      "text/html": [
       "<div>\n",
       "<style scoped>\n",
       "    .dataframe tbody tr th:only-of-type {\n",
       "        vertical-align: middle;\n",
       "    }\n",
       "\n",
       "    .dataframe tbody tr th {\n",
       "        vertical-align: top;\n",
       "    }\n",
       "\n",
       "    .dataframe thead th {\n",
       "        text-align: right;\n",
       "    }\n",
       "</style>\n",
       "<table border=\"1\" class=\"dataframe\">\n",
       "  <thead>\n",
       "    <tr style=\"text-align: right;\">\n",
       "      <th></th>\n",
       "      <th>Daily Time Spent on Site</th>\n",
       "      <th>Age</th>\n",
       "      <th>Area Income</th>\n",
       "      <th>Daily Internet Usage</th>\n",
       "      <th>Ad Topic Line</th>\n",
       "      <th>City</th>\n",
       "      <th>Male</th>\n",
       "      <th>Country</th>\n",
       "      <th>Timestamp</th>\n",
       "      <th>Clicked on Ad</th>\n",
       "    </tr>\n",
       "  </thead>\n",
       "  <tbody>\n",
       "    <tr>\n",
       "      <th>495</th>\n",
       "      <td>50.6</td>\n",
       "      <td>999</td>\n",
       "      <td>34191.13</td>\n",
       "      <td>129.88</td>\n",
       "      <td>Realigned reciprocal framework</td>\n",
       "      <td>New Daniellefort</td>\n",
       "      <td>1</td>\n",
       "      <td>United States of America</td>\n",
       "      <td>2016-05-03 12:57</td>\n",
       "      <td>1.0</td>\n",
       "    </tr>\n",
       "    <tr>\n",
       "      <th>604</th>\n",
       "      <td>57.2</td>\n",
       "      <td>103</td>\n",
       "      <td>57739.03</td>\n",
       "      <td>110.66</td>\n",
       "      <td>Innovative maximized groupware</td>\n",
       "      <td>East Heatherside</td>\n",
       "      <td>0</td>\n",
       "      <td>New Zealand</td>\n",
       "      <td>2016-03-19 11:09</td>\n",
       "      <td>1.0</td>\n",
       "    </tr>\n",
       "  </tbody>\n",
       "</table>\n",
       "</div>"
      ],
      "text/plain": [
       "     Daily Time Spent on Site  Age  Area Income  Daily Internet Usage  \\\n",
       "495                      50.6  999     34191.13                129.88   \n",
       "604                      57.2  103     57739.03                110.66   \n",
       "\n",
       "                      Ad Topic Line              City  Male  \\\n",
       "495  Realigned reciprocal framework  New Daniellefort     1   \n",
       "604  Innovative maximized groupware  East Heatherside     0   \n",
       "\n",
       "                      Country         Timestamp  Clicked on Ad  \n",
       "495  United States of America  2016-05-03 12:57            1.0  \n",
       "604               New Zealand  2016-03-19 11:09            1.0  "
      ]
     },
     "execution_count": 116,
     "metadata": {},
     "output_type": "execute_result"
    }
   ],
   "source": [
    "Advertising_Data[Advertising_Data['Age']>80]"
   ]
  },
  {
   "cell_type": "code",
   "execution_count": 117,
   "metadata": {},
   "outputs": [],
   "source": [
    "# Removing the extreme age values\n",
    "Advertising_Data=Advertising_Data[(Advertising_Data['Age']>18) & (Advertising_Data['Age']<80)] "
   ]
  },
  {
   "cell_type": "code",
   "execution_count": null,
   "metadata": {},
   "outputs": [],
   "source": []
  },
  {
   "cell_type": "code",
   "execution_count": 118,
   "metadata": {},
   "outputs": [
    {
     "data": {
      "text/plain": [
       "3"
      ]
     },
     "execution_count": 118,
     "metadata": {},
     "output_type": "execute_result"
    }
   ],
   "source": [
    "# Let's check out if the 'Daily TIme Spend on Site' is actually smaller or equal to the Daily Internet Usage'\n",
    "\n",
    "Advertising_Data['delta'] = Advertising_Data['Daily Internet Usage'] - Advertising_Data['Daily Time Spent on Site']\n",
    "sum(Advertising_Data['delta'] < 0)"
   ]
  },
  {
   "cell_type": "code",
   "execution_count": 119,
   "metadata": {},
   "outputs": [],
   "source": [
    "Advertising_Data = Advertising_Data[Advertising_Data['delta'] >= 0]\n",
    "Advertising_Data = Advertising_Data.drop('delta', axis=1)"
   ]
  },
  {
   "cell_type": "markdown",
   "metadata": {},
   "source": [
    "## 3.2 Descriptive Figures\n",
    "### 3.2.1 Distribution Plots"
   ]
  },
  {
   "cell_type": "code",
   "execution_count": 120,
   "metadata": {},
   "outputs": [],
   "source": [
    "# Functions that we will use later on\n",
    "def data_info(data):\n",
    "    return data.info()\n",
    "\n",
    "def creating_boxplots(size, target, features, data):\n",
    "    plt.figure(figsize=size)\n",
    "    for i in range(len(numerical_vars)):\n",
    "        plt.subplot(5, 3, i+1)\n",
    "        sns.boxplot(x=target, y=features[i], data=data )\n",
    "        \n",
    "def creating_distplot(size, data, features):\n",
    "    plt.figure(figsize=size)\n",
    "    for i in range(len(features)):\n",
    "        plt.subplot(5, 3, i+1)\n",
    "        sns.distplot(data[features[i]])\n",
    "        \n",
    "def crossCorrelation(data):\n",
    "    corr = data.corr()\n",
    "    plt.figure(figsize=(10,6))\n",
    "    sns.heatmap(corr, \n",
    "          xticklabels=corr.columns.values,\n",
    "          yticklabels=corr.columns.values)\n",
    "    print(corr)"
   ]
  },
  {
   "cell_type": "code",
   "execution_count": 121,
   "metadata": {},
   "outputs": [],
   "source": [
    "categorical_vars = [\"Ad Topic Line\", \"City\", \"Country\"]\n",
    "numerical_vars = [\"Daily Time Spent on Site\", \"Area Income\", \"Daily Internet Usage\", \"Male\", \"Age\"]\n",
    "datetime_vars = \"Timestamp\"\n",
    "target = \"Clicked on Ad\""
   ]
  },
  {
   "cell_type": "code",
   "execution_count": 122,
   "metadata": {},
   "outputs": [
    {
     "data": {
      "image/png": "[encoded data removed]",
      "text/plain": [
       "<Figure size 1152x1296 with 5 Axes>"
      ]
     },
     "metadata": {
      "needs_background": "light"
     },
     "output_type": "display_data"
    }
   ],
   "source": [
    "# Creating distribution plots\n",
    "creating_distplot((16,18), Advertising_Data, numerical_vars)\n",
    "plt.tight_layout()"
   ]
  },
  {
   "cell_type": "markdown",
   "metadata": {},
   "source": [
    "From the overall distributions, we can observe interesting bimodal distributions for the \"daily internet usage\", and \"daily time spent on site\" which could suggest the presence of more than one group. Furthermore, the age and \"area income\" are little bit skewed which could potentially bias our model later on. In a subsequent step, we will apply log transformation at least on the age feature. "
   ]
  },
  {
   "cell_type": "markdown",
   "metadata": {},
   "source": [
    "### 3.2.2 Boxplots"
   ]
  },
  {
   "cell_type": "code",
   "execution_count": 99,
   "metadata": {},
   "outputs": [
    {
     "data": {
      "image/png": "[encoded data removed]",
      "text/plain": [
       "<Figure size 1152x1296 with 5 Axes>"
      ]
     },
     "metadata": {
      "needs_background": "light"
     },
     "output_type": "display_data"
    }
   ],
   "source": [
    "# Generating boxplots with respect to our target feature\n",
    "creating_boxplots((16,18), target, numerical_vars, Advertising_Data)"
   ]
  },
  {
   "cell_type": "markdown",
   "metadata": {},
   "source": [
    "Both boxplots on \"Daily time spent on site\" and \"Daily internet usage\" show a significant difference between the two groups, namely the people who clicked on the ad vs. the people who did not. Furthermore, we can observe a potential trend between these two groups  with age and area income respectively. "
   ]
  },
  {
   "cell_type": "markdown",
   "metadata": {},
   "source": [
    "### 3.2.3 Cross-correlation Plot"
   ]
  },
  {
   "cell_type": "code",
   "execution_count": 101,
   "metadata": {},
   "outputs": [
    {
     "name": "stdout",
     "output_type": "stream",
     "text": [
      "                          Daily Time Spent on Site       Age  Area Income  \\\n",
      "Daily Time Spent on Site                  1.000000 -0.331699     0.308695   \n",
      "Age                                      -0.331699  1.000000    -0.177710   \n",
      "Area Income                               0.308695 -0.177710     1.000000   \n",
      "Daily Internet Usage                      0.518082 -0.364921     0.337343   \n",
      "Male                                     -0.021482 -0.017031     0.003484   \n",
      "Clicked on Ad                            -0.748189  0.490649    -0.476563   \n",
      "\n",
      "                          Daily Internet Usage      Male  Clicked on Ad  \n",
      "Daily Time Spent on Site              0.518082 -0.021482      -0.748189  \n",
      "Age                                  -0.364921 -0.017031       0.490649  \n",
      "Area Income                           0.337343  0.003484      -0.476563  \n",
      "Daily Internet Usage                  1.000000  0.026776      -0.786779  \n",
      "Male                                  0.026776  1.000000      -0.038952  \n",
      "Clicked on Ad                        -0.786779 -0.038952       1.000000  \n"
     ]
    },
    {
     "data": {
      "image/png": "[encoded data removed]",
      "text/plain": [
       "<Figure size 720x432 with 2 Axes>"
      ]
     },
     "metadata": {
      "needs_background": "light"
     },
     "output_type": "display_data"
    }
   ],
   "source": [
    "# Cross-correlation between the different features\n",
    "crossCorrelation(Advertising_Data)"
   ]
  },
  {
   "cell_type": "markdown",
   "metadata": {},
   "source": [
    "The cross-correlation revealed interesting potential relationship between our target feature and all the features except sex. Now, we would need to keep these relationship in mind since there seems to be some collinearity between the explanatory features as well."
   ]
  },
  {
   "cell_type": "markdown",
   "metadata": {},
   "source": [
    "### 3.2.4 Distribution Plots With Respect To Our Target Feature"
   ]
  },
  {
   "cell_type": "code",
   "execution_count": 126,
   "metadata": {},
   "outputs": [
    {
     "data": {
      "image/png": "[encoded data removed]",
      "text/plain": [
       "<Figure size 1152x432 with 4 Axes>"
      ]
     },
     "metadata": {
      "needs_background": "light"
     },
     "output_type": "display_data"
    }
   ],
   "source": [
    "# Subsetting by clicks\n",
    "click_yes = Advertising_Data[\"Clicked on Ad\"] == 1\n",
    "click_no = Advertising_Data[\"Clicked on Ad\"] == 0\n",
    "\n",
    "# Creating the plots\n",
    "features = [\"Daily Internet Usage\", \"Daily Time Spent on Site\", \"Area Income\", \"Age\"]\n",
    "labels = [\"Click\", \"No Click\"]\n",
    "\n",
    "def creating_plots(features, labels):\n",
    "    plt.figure(figsize=(16,6))\n",
    "    for feature in features:\n",
    "        plt.subplot(2, 2, features.index(feature)+1)\n",
    "        sns.distplot(Advertising_Data[feature][click_yes], label=labels[0], color=\"b\")\n",
    "        sns.distplot(Advertising_Data[feature][click_no], label=labels[1], color=\"y\")\n",
    "        plt.axvline(Advertising_Data[feature][click_yes].mean(), linestyle = '--', color=\"b\")\n",
    "        plt.axvline(Advertising_Data[feature][click_no].mean(), linestyle = '--', color=\"y\")\n",
    "        plt.legend()\n",
    "\n",
    "creating_plots(features, labels)"
   ]
  },
  {
   "cell_type": "markdown",
   "metadata": {},
   "source": [
    "## 3.3 Feature Engineering\n",
    "### 3.3.1 Skewed Features: Log Transform\n",
    "Before performing machine learning, we will transform some features to avoid introducing some bias due to the overall distribution of the latter. As mentioned previously, we have some skewed distributions and they can make our models underperformed. To potentially solve this issue, we will apply a logarithmic transformation to reduce the effect of outliers and reduce the distribution's range.\n",
    "\n",
    "From our previous EDA, we observe that \"Age\" was right skewed; therefore this transformation will be applied to this feature."
   ]
  },
  {
   "cell_type": "code",
   "execution_count": 128,
   "metadata": {},
   "outputs": [],
   "source": [
    "Advertising_Data[\"log_age\"] = np.log(Advertising_Data[\"Age\"])"
   ]
  },
  {
   "cell_type": "markdown",
   "metadata": {},
   "source": [
    "### 3.3.2 Removing Some Features"
   ]
  },
  {
   "cell_type": "markdown",
   "metadata": {},
   "source": [
    "For the time being, we will remove some features that would need a special approach like Natural Language Processing, and time-related analysis to keep our model simple. Furthermore, we will not be considering the \"City\" feature because of its lack of specificity as stated earlier."
   ]
  },
  {
   "cell_type": "code",
   "execution_count": 130,
   "metadata": {},
   "outputs": [],
   "source": [
    "df = Advertising_Data.drop([\"Ad Topic Line\", \"Timestamp\", \"City\"], axis=1)"
   ]
  },
  {
   "cell_type": "markdown",
   "metadata": {},
   "source": [
    "### 3.3.3 Normalization Of Numerical Features"
   ]
  },
  {
   "cell_type": "code",
   "execution_count": 131,
   "metadata": {},
   "outputs": [
    {
     "data": {
      "text/html": [
       "<div>\n",
       "<style scoped>\n",
       "    .dataframe tbody tr th:only-of-type {\n",
       "        vertical-align: middle;\n",
       "    }\n",
       "\n",
       "    .dataframe tbody tr th {\n",
       "        vertical-align: top;\n",
       "    }\n",
       "\n",
       "    .dataframe thead th {\n",
       "        text-align: right;\n",
       "    }\n",
       "</style>\n",
       "<table border=\"1\" class=\"dataframe\">\n",
       "  <thead>\n",
       "    <tr style=\"text-align: right;\">\n",
       "      <th></th>\n",
       "      <th>Daily Time Spent on Site</th>\n",
       "      <th>Age</th>\n",
       "      <th>Area Income</th>\n",
       "      <th>Daily Internet Usage</th>\n",
       "      <th>Male</th>\n",
       "      <th>Country</th>\n",
       "      <th>Clicked on Ad</th>\n",
       "      <th>log_age</th>\n",
       "    </tr>\n",
       "  </thead>\n",
       "  <tbody>\n",
       "    <tr>\n",
       "      <th>0</th>\n",
       "      <td>0.617882</td>\n",
       "      <td>35</td>\n",
       "      <td>0.730472</td>\n",
       "      <td>0.916031</td>\n",
       "      <td>0.0</td>\n",
       "      <td>Tunisia</td>\n",
       "      <td>0.0</td>\n",
       "      <td>0.523740</td>\n",
       "    </tr>\n",
       "    <tr>\n",
       "      <th>1</th>\n",
       "      <td>0.809621</td>\n",
       "      <td>31</td>\n",
       "      <td>0.831375</td>\n",
       "      <td>0.538746</td>\n",
       "      <td>1.0</td>\n",
       "      <td>Nauru</td>\n",
       "      <td>0.0</td>\n",
       "      <td>0.419696</td>\n",
       "    </tr>\n",
       "    <tr>\n",
       "      <th>2</th>\n",
       "      <td>0.626721</td>\n",
       "      <td>26</td>\n",
       "      <td>0.699200</td>\n",
       "      <td>0.797433</td>\n",
       "      <td>0.0</td>\n",
       "      <td>San Marino</td>\n",
       "      <td>0.0</td>\n",
       "      <td>0.268903</td>\n",
       "    </tr>\n",
       "    <tr>\n",
       "      <th>3</th>\n",
       "      <td>0.706272</td>\n",
       "      <td>29</td>\n",
       "      <td>0.623160</td>\n",
       "      <td>0.854280</td>\n",
       "      <td>1.0</td>\n",
       "      <td>Italy</td>\n",
       "      <td>0.0</td>\n",
       "      <td>0.362521</td>\n",
       "    </tr>\n",
       "    <tr>\n",
       "      <th>4</th>\n",
       "      <td>0.608023</td>\n",
       "      <td>35</td>\n",
       "      <td>0.914568</td>\n",
       "      <td>0.731323</td>\n",
       "      <td>0.0</td>\n",
       "      <td>Iceland</td>\n",
       "      <td>0.0</td>\n",
       "      <td>0.523740</td>\n",
       "    </tr>\n",
       "  </tbody>\n",
       "</table>\n",
       "</div>"
      ],
      "text/plain": [
       "   Daily Time Spent on Site  Age  Area Income  Daily Internet Usage  Male  \\\n",
       "0                  0.617882   35     0.730472              0.916031   0.0   \n",
       "1                  0.809621   31     0.831375              0.538746   1.0   \n",
       "2                  0.626721   26     0.699200              0.797433   0.0   \n",
       "3                  0.706272   29     0.623160              0.854280   1.0   \n",
       "4                  0.608023   35     0.914568              0.731323   0.0   \n",
       "\n",
       "      Country  Clicked on Ad   log_age  \n",
       "0     Tunisia            0.0  0.523740  \n",
       "1       Nauru            0.0  0.419696  \n",
       "2  San Marino            0.0  0.268903  \n",
       "3       Italy            0.0  0.362521  \n",
       "4     Iceland            0.0  0.523740  "
      ]
     },
     "execution_count": 131,
     "metadata": {},
     "output_type": "execute_result"
    }
   ],
   "source": [
    "# Defining categorical, numerical, and datetime variables that we will use later\n",
    "categorical_vars = [\"Ad Topic Line\", \"City\", \"Country\"]\n",
    "numerical_vars = [\"Daily Time Spent on Site\", \"Area Income\", \"Daily Internet Usage\", \"Male\", \"log_age\"]\n",
    "datetime_vars = \"Timestamp\"\n",
    "target = \"Clicked on Ad\"\n",
    "\n",
    "# Initialize a scaler, then apply it to the features\n",
    "scaler = MinMaxScaler() # default=(0, 1)\n",
    "\n",
    "# Applying the MinMax transformation of the numerical variables\n",
    "data = pd.DataFrame(data = df)\n",
    "data[numerical_vars] = scaler.fit_transform(data[numerical_vars])\n",
    "\n",
    "# Show an example of a record with scaling applied\n",
    "data.head()"
   ]
  },
  {
   "cell_type": "markdown",
   "metadata": {},
   "source": [
    "### 3.3.4 Processing Categorical Feature: One Hot-Encoding"
   ]
  },
  {
   "cell_type": "code",
   "execution_count": 132,
   "metadata": {},
   "outputs": [],
   "source": [
    "final_data = pd.get_dummies(data)"
   ]
  },
  {
   "cell_type": "markdown",
   "metadata": {},
   "source": [
    "# 4. Model Selection\n",
    "\n",
    "In this section, we will test various algorithms with our problem at hand to choose the best one in order to tune the model to its best parameters. In order to assess the different algorithms, we will use two metrics:\n",
    "\n",
    "    - F1-Score\n",
    "    \n",
    "    - Time\n",
    "    "
   ]
  },
  {
   "cell_type": "markdown",
   "metadata": {},
   "source": [
    "## 4.1 Data Preparation: Training and Testing Sets"
   ]
  },
  {
   "cell_type": "code",
   "execution_count": 133,
   "metadata": {},
   "outputs": [],
   "source": [
    "# Creating training and test set \n",
    "X, y = final_data.drop([target, \"Age\"],1).values, final_data[target].values\n",
    "X_train, X_test, y_train, y_test = train_test_split(X, y,\n",
    "                                                  test_size=0.2,\n",
    "                                                  random_state=42,\n",
    "                                                  stratify=y)"
   ]
  },
  {
   "cell_type": "code",
   "execution_count": 134,
   "metadata": {},
   "outputs": [
    {
     "name": "stdout",
     "output_type": "stream",
     "text": [
      "(800, 242)\n",
      "(800,)\n",
      "(201, 242)\n",
      "(201,)\n"
     ]
    }
   ],
   "source": [
    "# Just as a sanity check\n",
    "print(X_train.shape)\n",
    "print(y_train.shape)\n",
    "print(X_test.shape)\n",
    "print(y_test.shape)\n",
    "\n",
    "# Good, we are sane!"
   ]
  },
  {
   "cell_type": "markdown",
   "metadata": {},
   "source": [
    "### 4.2.1 Logistic Regression\n",
    "\n",
    "First, we will perform a general gridsearch on the penalizing parameter of the L2-Regularization. We will use this search as a guideline for a more focus search in the next step."
   ]
  },
  {
   "cell_type": "code",
   "execution_count": 135,
   "metadata": {},
   "outputs": [
    {
     "name": "stdout",
     "output_type": "stream",
     "text": [
      "\n",
      "Optimized Model\n",
      "------\n",
      "Final accuracy score on the testing data: 0.9353\n",
      "Final F-score on the testing data: 0.9485\n",
      "LogisticRegression(C=1, class_weight=None, dual=False, fit_intercept=True,\n",
      "                   intercept_scaling=1, l1_ratio=None, max_iter=100,\n",
      "                   multi_class='auto', n_jobs=None, penalty='l2',\n",
      "                   random_state=42, solver='lbfgs', tol=0.0001, verbose=0,\n",
      "                   warm_start=False)\n"
     ]
    },
    {
     "name": "stderr",
     "output_type": "stream",
     "text": [
      "C:\\Users\\venkata.b\\AppData\\Local\\Continuum\\anaconda3\\lib\\site-packages\\sklearn\\linear_model\\_logistic.py:940: ConvergenceWarning: lbfgs failed to converge (status=1):\n",
      "STOP: TOTAL NO. of ITERATIONS REACHED LIMIT.\n",
      "\n",
      "Increase the number of iterations (max_iter) or scale the data as shown in:\n",
      "    https://scikit-learn.org/stable/modules/preprocessing.html\n",
      "Please also refer to the documentation for alternative solver options:\n",
      "    https://scikit-learn.org/stable/modules/linear_model.html#logistic-regression\n",
      "  extra_warning_msg=_LOGISTIC_SOLVER_CONVERGENCE_MSG)\n",
      "C:\\Users\\venkata.b\\AppData\\Local\\Continuum\\anaconda3\\lib\\site-packages\\sklearn\\linear_model\\_logistic.py:940: ConvergenceWarning: lbfgs failed to converge (status=1):\n",
      "STOP: TOTAL NO. of ITERATIONS REACHED LIMIT.\n",
      "\n",
      "Increase the number of iterations (max_iter) or scale the data as shown in:\n",
      "    https://scikit-learn.org/stable/modules/preprocessing.html\n",
      "Please also refer to the documentation for alternative solver options:\n",
      "    https://scikit-learn.org/stable/modules/linear_model.html#logistic-regression\n",
      "  extra_warning_msg=_LOGISTIC_SOLVER_CONVERGENCE_MSG)\n",
      "C:\\Users\\venkata.b\\AppData\\Local\\Continuum\\anaconda3\\lib\\site-packages\\sklearn\\linear_model\\_logistic.py:940: ConvergenceWarning: lbfgs failed to converge (status=1):\n",
      "STOP: TOTAL NO. of ITERATIONS REACHED LIMIT.\n",
      "\n",
      "Increase the number of iterations (max_iter) or scale the data as shown in:\n",
      "    https://scikit-learn.org/stable/modules/preprocessing.html\n",
      "Please also refer to the documentation for alternative solver options:\n",
      "    https://scikit-learn.org/stable/modules/linear_model.html#logistic-regression\n",
      "  extra_warning_msg=_LOGISTIC_SOLVER_CONVERGENCE_MSG)\n",
      "C:\\Users\\venkata.b\\AppData\\Local\\Continuum\\anaconda3\\lib\\site-packages\\sklearn\\linear_model\\_logistic.py:940: ConvergenceWarning: lbfgs failed to converge (status=1):\n",
      "STOP: TOTAL NO. of ITERATIONS REACHED LIMIT.\n",
      "\n",
      "Increase the number of iterations (max_iter) or scale the data as shown in:\n",
      "    https://scikit-learn.org/stable/modules/preprocessing.html\n",
      "Please also refer to the documentation for alternative solver options:\n",
      "    https://scikit-learn.org/stable/modules/linear_model.html#logistic-regression\n",
      "  extra_warning_msg=_LOGISTIC_SOLVER_CONVERGENCE_MSG)\n"
     ]
    }
   ],
   "source": [
    "from sklearn.linear_model import LogisticRegression\n",
    "\n",
    "\n",
    "parameters = {\"C\": [0.001, 0.01, 0.1, 1, 10 , 100, 1000]}\n",
    "\n",
    "model = LogisticRegression(random_state=42, penalty=\"l2\")\n",
    "\n",
    "# fbeta_score scoring object using make_scorer()\n",
    "scorer = make_scorer(fbeta_score, beta=0.5)\n",
    "\n",
    "# Grid Search on the classifier using 'scorer' as the scoring method\n",
    "grid_obj = GridSearchCV(model, param_grid=parameters, scoring=scorer)\n",
    "\n",
    "# Fit the grid search object to the training data and find the optimal parameters using fit()\n",
    "grid_fit = grid_obj.fit(X_train, y_train)\n",
    "\n",
    "# Get the estimator\n",
    "best_clf = grid_fit.best_estimator_\n",
    "\n",
    "# Make predictions using the unoptimized and model\n",
    "best_predictions = best_clf.predict(X_test)\n",
    "\n",
    "# Report the scores\n",
    "print(\"\\nOptimized Model\\n------\")\n",
    "print(\"Final accuracy score on the testing data: {:.4f}\".format(accuracy_score(y_test, best_predictions)))\n",
    "print(\"Final F-score on the testing data: {:.4f}\".format(fbeta_score(y_test, best_predictions, beta = 0.5)))\n",
    "print(best_clf)"
   ]
  },
  {
   "cell_type": "code",
   "execution_count": 136,
   "metadata": {},
   "outputs": [
    {
     "name": "stdout",
     "output_type": "stream",
     "text": [
      "\n",
      "Optimized Model\n",
      "------\n",
      "Final accuracy score on the testing data: 0.9888\n",
      "Final F-score on the testing data: 0.9939\n",
      "LogisticRegression(C=6.2, class_weight=None, dual=False, fit_intercept=True,\n",
      "                   intercept_scaling=1, l1_ratio=None, max_iter=100,\n",
      "                   multi_class='auto', n_jobs=None, penalty='l2',\n",
      "                   random_state=42, solver='lbfgs', tol=0.0001, verbose=0,\n",
      "                   warm_start=False)\n"
     ]
    }
   ],
   "source": [
    "from sklearn.linear_model import LogisticRegression\n",
    "\n",
    "\n",
    "parameters = {\"C\": [5.2, 5.4, 5.6, 5.8, 6, 6.2, 6.4, 6.6, 6.8, 7, 9, 9.5, 10 , 10.5, 11]}\n",
    "\n",
    "model = LogisticRegression(random_state=42, penalty=\"l2\")\n",
    "\n",
    "# fbeta_score scoring object using make_scorer()\n",
    "scorer = make_scorer(fbeta_score, beta=0.5)\n",
    "\n",
    "# Grid Search on the classifier using 'scorer' as the scoring method\n",
    "grid_obj = GridSearchCV(model, param_grid=parameters, scoring=scorer)\n",
    "\n",
    "# Fit the grid search object to the training data and find the optimal parameters using fit()\n",
    "grid_fit = grid_obj.fit(X_train, y_train)\n",
    "\n",
    "# Get the estimator\n",
    "best_clf = grid_fit.best_estimator_\n",
    "\n",
    "# Make predictions using the unoptimized and model\n",
    "best_predictions = best_clf.predict(X_train)\n",
    "\n",
    "# Report the scores\n",
    "print(\"\\nOptimized Model\\n------\")\n",
    "print(\"Final accuracy score on the testing data: {:.4f}\".format(accuracy_score(y_train, best_predictions)))\n",
    "print(\"Final F-score on the testing data: {:.4f}\".format(fbeta_score(y_train, best_predictions, beta = 0.5)))\n",
    "print(best_clf)"
   ]
  },
  {
   "cell_type": "markdown",
   "metadata": {},
   "source": [
    "From the logisitic regression, with a model including most of our features, our best result on the training set are:\n",
    "\n",
    "   **1. Accuracy of 99%**\n",
    "\n",
    "   **2. F-score of 99.29%**\n",
    "    \n",
    "with L2-Regularization with C=5.8.\n",
    "\n",
    "Let's look at other metrics such as the precision and recall"
   ]
  },
  {
   "cell_type": "code",
   "execution_count": null,
   "metadata": {},
   "outputs": [],
   "source": []
  }
 ],
 "metadata": {
  "kernelspec": {
   "display_name": "Python 3",
   "language": "python",
   "name": "python3"
  },
  "language_info": {
   "codemirror_mode": {
    "name": "ipython",
    "version": 3
   },
   "file_extension": ".py",
   "mimetype": "text/x-python",
   "name": "python",
   "nbconvert_exporter": "python",
   "pygments_lexer": "ipython3",
   "version": "3.7.3"
  }
 },
 "nbformat": 4,
 "nbformat_minor": 2
}
